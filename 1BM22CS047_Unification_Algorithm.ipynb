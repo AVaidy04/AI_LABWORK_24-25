{
  "nbformat": 4,
  "nbformat_minor": 0,
  "metadata": {
    "colab": {
      "provenance": [],
      "authorship_tag": "ABX9TyNgiwBkhAk/EXRwHvjkPoa6",
      "include_colab_link": true
    },
    "kernelspec": {
      "name": "python3",
      "display_name": "Python 3"
    },
    "language_info": {
      "name": "python"
    }
  },
  "cells": [
    {
      "cell_type": "markdown",
      "metadata": {
        "id": "view-in-github",
        "colab_type": "text"
      },
      "source": [
        "<a href=\"https://colab.research.google.com/github/AVaidy04/AI_LABWORK_24-25/blob/main/1BM22CS047_Unification_Algorithm.ipynb\" target=\"_parent\"><img src=\"https://colab.research.google.com/assets/colab-badge.svg\" alt=\"Open In Colab\"/></a>"
      ]
    },
    {
      "cell_type": "code",
      "execution_count": 1,
      "metadata": {
        "colab": {
          "base_uri": "https://localhost:8080/"
        },
        "id": "ZBB6Q1itX4ym",
        "outputId": "d4fb002b-5d5a-4a1b-a0bd-71555e1d77b6"
      },
      "outputs": [
        {
          "output_type": "stream",
          "name": "stdout",
          "text": [
            "Attempting to unify: h(p, q, r, s) with h(m, q, n, o)\n",
            "Attempting to unify: p with m\n",
            "Substituting p with m\n",
            "Attempting to unify: q with q\n",
            "Attempting to unify: r with n\n",
            "Substituting r with n\n",
            "Attempting to unify: s with o\n",
            "Substituting s with o\n",
            "Unification successful with substitution: {'p': 'm', 'r': 'n', 's': 'o'}\n",
            "Unification succeeded with substitution: {'p': 'm', 'r': 'n', 's': 'o'}\n"
          ]
        }
      ],
      "source": [
        "def occurs_check(var, term):\n",
        "    \"\"\"\n",
        "    Check if a variable occurs in a term.\n",
        "    This is used in the occurs check during unification.\n",
        "    \"\"\"\n",
        "    if var == term:\n",
        "        return True\n",
        "    if isinstance(term, list):\n",
        "        return any(occurs_check(var, t) for t in term)\n",
        "    return False\n",
        "\n",
        "\n",
        "def print_expr(term):\n",
        "    \"\"\"\n",
        "    Print the term (expression) in a human-readable format.\n",
        "    This works for both predicates and simple variables.\n",
        "    \"\"\"\n",
        "    if isinstance(term, str):  # A variable\n",
        "        return term\n",
        "    elif isinstance(term, tuple):  # A predicate\n",
        "        return f\"{term[0]}({', '.join(map(print_expr, term[1:]))})\"\n",
        "    return str(term)\n",
        "\n",
        "\n",
        "def unify(psi1, psi2, subst=None):\n",
        "    \"\"\"\n",
        "    Function to unify two terms (psi1, psi2) with a given substitution (subst).\n",
        "    \"\"\"\n",
        "    if subst is None:\n",
        "        subst = {}\n",
        "\n",
        "    # Step 1: If either term is a variable\n",
        "    print(f\"Attempting to unify: {print_expr(psi1)} with {print_expr(psi2)}\")\n",
        "\n",
        "    if isinstance(psi1, str):  # Psi1 is a variable\n",
        "        if psi1 in subst:  # Apply the current substitution\n",
        "            psi1 = subst[psi1]\n",
        "        if psi1 == psi2:  # Terms are identical\n",
        "            return subst\n",
        "        if occurs_check(psi1, psi2):  # Occurs check\n",
        "            print(\"Occurs check failure!\")\n",
        "            return None  # Failure\n",
        "        print(f\"Substituting {psi1} with {psi2}\")\n",
        "        subst[psi1] = psi2\n",
        "        return subst\n",
        "\n",
        "    elif isinstance(psi2, str):  # Psi2 is a variable\n",
        "        if psi2 in subst:  # Apply the current substitution\n",
        "            psi2 = subst[psi2]\n",
        "        if psi1 == psi2:  # Terms are identical\n",
        "            return subst\n",
        "        if occurs_check(psi2, psi1):  # Occurs check\n",
        "            print(\"Occurs check failure!\")\n",
        "            return None  # Failure\n",
        "        print(f\"Substituting {psi2} with {psi1}\")\n",
        "        subst[psi2] = psi1\n",
        "        return subst\n",
        "\n",
        "    # Step 2: If the initial predicate symbols are not the same, return failure\n",
        "    if isinstance(psi1, tuple) and isinstance(psi2, tuple):\n",
        "        if psi1[0] != psi2[0]:\n",
        "            print(\"Predicate symbols do not match!\")\n",
        "            return None  # Failure\n",
        "\n",
        "        # Step 3: If they have different number of arguments, return failure\n",
        "        if len(psi1) != len(psi2):\n",
        "            print(\"Different number of arguments!\")\n",
        "            return None  # Failure\n",
        "\n",
        "        # Step 4: Process arguments of the predicates\n",
        "        for i in range(1, len(psi1)):  # Start from 1 to skip predicate symbol\n",
        "            result = unify(psi1[i], psi2[i], subst)\n",
        "            if result is None:\n",
        "                print(f\"Unification failed between {print_expr(psi1[i])} and {print_expr(psi2[i])}\")\n",
        "                return None  # Failure\n",
        "            subst = result  # Update substitution\n",
        "\n",
        "    else:\n",
        "        # Step 5: Return failure if terms are not variables or predicates\n",
        "        print(\"Invalid terms!\")\n",
        "        return None\n",
        "\n",
        "    # Step 6: Return the final substitution\n",
        "    print(f\"Unification successful with substitution: {subst}\")\n",
        "    return subst\n",
        "\n",
        "\n",
        "# Example usage with changed variables\n",
        "psi1 = (\"h\", \"p\", \"q\", \"r\", \"s\")  # A term like h(p, q(r))\n",
        "psi2 = (\"h\", \"m\", \"q\", \"n\", 'o')  # A term like h(m, q(n))\n",
        "\n",
        "subst = unify(psi1, psi2)\n",
        "if subst is None:\n",
        "    print(\"Unification failed!\")\n",
        "else:\n",
        "    print(\"Unification succeeded with substitution:\", subst)\n"
      ]
    }
  ]
}