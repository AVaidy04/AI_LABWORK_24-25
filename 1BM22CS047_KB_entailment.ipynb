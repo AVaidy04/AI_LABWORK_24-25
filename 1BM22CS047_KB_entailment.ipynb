{
  "nbformat": 4,
  "nbformat_minor": 0,
  "metadata": {
    "colab": {
      "provenance": [],
      "authorship_tag": "ABX9TyP2LbgDcrP+DMIKBIfwNM94",
      "include_colab_link": true
    },
    "kernelspec": {
      "name": "python3",
      "display_name": "Python 3"
    },
    "language_info": {
      "name": "python"
    }
  },
  "cells": [
    {
      "cell_type": "markdown",
      "metadata": {
        "id": "view-in-github",
        "colab_type": "text"
      },
      "source": [
        "<a href=\"https://colab.research.google.com/github/AVaidy04/AI_LABWORK_24-25/blob/main/1BM22CS047_KB_entailment.ipynb\" target=\"_parent\"><img src=\"https://colab.research.google.com/assets/colab-badge.svg\" alt=\"Open In Colab\"/></a>"
      ]
    },
    {
      "cell_type": "code",
      "execution_count": 9,
      "metadata": {
        "colab": {
          "base_uri": "https://localhost:8080/"
        },
        "id": "--6wXErIpRbe",
        "outputId": "79be1fa2-e741-4b63-e811-e5145b7c6017"
      },
      "outputs": [
        {
          "output_type": "stream",
          "name": "stdout",
          "text": [
            "Enter the KB expression (use 'and', 'or', 'not', 'implies' for ->): A or B\n",
            "Enter the alpha (query) expression: A implies  B\n",
            "Truth Table:\n",
            "A B | KB | alpha\n",
            "-------------------------\n",
            "True True | True | True\n",
            "True False | True | True\n",
            "False True | True | False\n",
            "False False | False | True\n",
            "\n",
            "KB does not entail alpha.\n"
          ]
        }
      ],
      "source": [
        "from itertools import product\n",
        "import string\n",
        "\n",
        "def parse_expression(expression, symbol_map):\n",
        "    # Replace each symbol with its mapped single-letter alphabet and create lambda function\n",
        "    for symbol, letter in symbol_map.items():\n",
        "        expression = expression.replace(symbol, f\"values['{letter}']\")\n",
        "    return eval(\"lambda values: \" + expression)\n",
        "\n",
        "def generate_truth_table(symbol_map):\n",
        "    # Generate all possible combinations of truth values\n",
        "    symbols = list(symbol_map.values())\n",
        "    return [dict(zip(symbols, values)) for values in product([True, False], repeat=len(symbols))]\n",
        "\n",
        "def check_entailment(kb_expr, alpha_expr, symbol_map):\n",
        "    kb_lambda = parse_expression(kb_expr, symbol_map)\n",
        "    alpha_lambda = parse_expression(alpha_expr, symbol_map)\n",
        "\n",
        "    truth_table = generate_truth_table(symbol_map)\n",
        "    entails = True\n",
        "    symbols = list(symbol_map.values())\n",
        "\n",
        "    # Print the truth table header\n",
        "    print(\"Truth Table:\")\n",
        "    print(f\"{' '.join(symbols)} | KB | alpha\")\n",
        "    print(\"-\" * (len(symbols) * 5 + 15))\n",
        "\n",
        "    for row in truth_table:\n",
        "        kb_value = kb_lambda(row)\n",
        "        alpha_value = alpha_lambda(row)\n",
        "\n",
        "        print(f\"{' '.join(str(row[symbol]) for symbol in symbols)} | {kb_value} | {alpha_value}\")\n",
        "\n",
        "        # Check if there's a case where KB is True and alpha is False\n",
        "        if kb_value and not alpha_value:\n",
        "            entails = False\n",
        "\n",
        "    return entails\n",
        "\n",
        "# User input for KB and alpha\n",
        "kb_expr = input(\"Enter the KB expression (use 'and', 'or', 'not', 'implies' for ->): \")\n",
        "alpha_expr = input(\"Enter the alpha (query) expression: \")\n",
        "\n",
        "# Extract symbols and map to single-letter alphabets\n",
        "symbols = sorted(set(kb_expr.replace(\"and\", \"\").replace(\"or\", \"\").replace(\"not\", \"\").replace(\"(\", \"\").replace(\")\", \"\").replace(\"implies\", \"\").split()) |\n",
        "                 set(alpha_expr.replace(\"and\", \"\").replace(\"or\", \"\").replace(\"not\", \"\").replace(\"(\", \"\").replace(\")\", \"\").replace(\"implies\", \"\").split()))\n",
        "symbol_map = {symbol: letter for symbol, letter in zip(symbols, string.ascii_uppercase)}\n",
        "\n",
        "# Substitute 'implies' with 'not p or q' (implication in propositional logic)\n",
        "kb_expr = kb_expr.replace(\"implies\", \" or not \")\n",
        "alpha_expr = alpha_expr.replace(\"implies\", \" or not \")\n",
        "\n",
        "# Check entailment\n",
        "entails = check_entailment(kb_expr, alpha_expr, symbol_map)\n",
        "print(\"\\nKB entails alpha:\" if entails else \"\\nKB does not entail alpha.\")\n"
      ]
    }
  ]
}