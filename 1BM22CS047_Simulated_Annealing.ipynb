{
  "nbformat": 4,
  "nbformat_minor": 0,
  "metadata": {
    "colab": {
      "provenance": [],
      "authorship_tag": "ABX9TyO9+J+s56D1nHmorKcsd6dP",
      "include_colab_link": true
    },
    "kernelspec": {
      "name": "python3",
      "display_name": "Python 3"
    },
    "language_info": {
      "name": "python"
    }
  },
  "cells": [
    {
      "cell_type": "markdown",
      "metadata": {
        "id": "view-in-github",
        "colab_type": "text"
      },
      "source": [
        "<a href=\"https://colab.research.google.com/github/AVaidy04/AI_LABWORK_24-25/blob/main/1BM22CS047_Simulated_Annealing.ipynb\" target=\"_parent\"><img src=\"https://colab.research.google.com/assets/colab-badge.svg\" alt=\"Open In Colab\"/></a>"
      ]
    },
    {
      "cell_type": "code",
      "execution_count": 2,
      "metadata": {
        "colab": {
          "base_uri": "https://localhost:8080/"
        },
        "id": "4lVW0WUiiwgg",
        "outputId": "17f35492-5322-4493-c882-30a3e1f80855"
      },
      "outputs": [
        {
          "output_type": "stream",
          "name": "stdout",
          "text": [
            "Iteration 0: Temperature=100.00, Current Conflicts=4, Best Conflicts=3\n",
            "Iteration 100: Temperature=36.60, Current Conflicts=5, Best Conflicts=1\n",
            "Iteration 200: Temperature=13.40, Current Conflicts=10, Best Conflicts=1\n",
            "Iteration 300: Temperature=4.90, Current Conflicts=8, Best Conflicts=1\n",
            "Iteration 400: Temperature=1.80, Current Conflicts=6, Best Conflicts=1\n",
            "Iteration 500: Temperature=0.66, Current Conflicts=3, Best Conflicts=1\n",
            "Iteration 600: Temperature=0.24, Current Conflicts=2, Best Conflicts=1\n",
            "Iteration 700: Temperature=0.09, Current Conflicts=2, Best Conflicts=1\n",
            "Solution found at iteration 761!\n",
            "Best Board Position: [3, 6, 4, 1, 5, 0, 2, 7]\n",
            "Final Solution: [3, 6, 4, 1, 5, 0, 2, 7]\n"
          ]
        }
      ],
      "source": [
        "import random\n",
        "import math\n",
        "\n",
        "def initialize_board(n):\n",
        "\n",
        "    return [random.randint(0, n - 1) for _ in range(n)]\n",
        "\n",
        "def calculate_conflicts(board):\n",
        "\n",
        "    conflicts = 0\n",
        "    n = len(board)\n",
        "    for i in range(n):\n",
        "        for j in range(i + 1, n):\n",
        "            if board[i] == board[j] or abs(board[i] - board[j]) == j - i:\n",
        "                conflicts += 1\n",
        "    return conflicts\n",
        "\n",
        "def simulated_annealing(n, max_iterations=10000, initial_temp=100, cooling_rate=0.99, log_interval=100):\n",
        "    b = initialize_board(n)\n",
        "    c = calculate_conflicts(b)\n",
        "    t = initial_temp\n",
        "    best_solution = b[:]\n",
        "    best_conflicts = c\n",
        "\n",
        "    for i in range(max_iterations):\n",
        "        if c == 0:\n",
        "            print(f\"Solution found at iteration {i}!\")\n",
        "            print(\"Best Board Position:\", b)\n",
        "            return b\n",
        "\n",
        "        r = random.randint(0, n - 1)\n",
        "        new_c = random.randint(0, n - 1)\n",
        "        while new_c == b[r]:\n",
        "            new_c = random.randint(0, n - 1)\n",
        "\n",
        "        new_b = b[:]\n",
        "        new_b[r] = new_c\n",
        "        new_c_f = calculate_conflicts(new_b)\n",
        "\n",
        "        delta_c = new_c_f - c\n",
        "\n",
        "        if delta_c < 0 or math.exp(-delta_c / t) > random.random():\n",
        "            b, c = new_b, new_c_f\n",
        "            if c < best_conflicts:\n",
        "                best_solution, best_conflicts = b[:], c\n",
        "\n",
        "\n",
        "        if i % log_interval == 0 or i == max_iterations - 1:\n",
        "            print(f\"Iteration {i}: Temperature={t:.2f}, Current Conflicts={c}, Best Conflicts={best_conflicts}\")\n",
        "\n",
        "        t *= cooling_rate\n",
        "\n",
        "    print(\"No solution found within the maximum iterations.\")\n",
        "    print(\"Best solution found:\", best_solution)\n",
        "    return best_solution\n",
        "\n",
        "\n",
        "n = 8\n",
        "solution = simulated_annealing(n)\n",
        "if solution:\n",
        "    print(\"Final Solution:\", solution)\n",
        "else:\n",
        "    print(\"No solution found within the maximum iterations.\")\n"
      ]
    }
  ]
}